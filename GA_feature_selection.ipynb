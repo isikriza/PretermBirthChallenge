{
 "cells": [
  {
   "cell_type": "code",
   "execution_count": null,
   "metadata": {},
   "outputs": [],
   "source": [
    "import pandas as pd\n",
    "import numpy as np\n",
    "import warnings\n",
    "warnings.filterwarnings('ignore')"
   ]
  },
  {
   "cell_type": "code",
   "execution_count": null,
   "metadata": {},
   "outputs": [],
   "source": [
    "train_data = pd.read_csv('train_data.csv')\n",
    "train_data.head(10)"
   ]
  },
  {
   "cell_type": "code",
   "execution_count": null,
   "metadata": {},
   "outputs": [],
   "source": [
    "gse59491_set = train_data[train_data['Set'] == 'GSE59491']\n",
    "control_group = gse59491_set[gse59491_set['Group'] == 'Control']\n",
    "pprom_group = gse59491_set[gse59491_set['Group'] == 'PPROM']\n",
    "sPTD_group = gse59491_set[gse59491_set['Group'] == 'sPTD']"
   ]
  },
  {
   "cell_type": "code",
   "execution_count": null,
   "metadata": {},
   "outputs": [],
   "source": [
    "control_group = control_group.drop(['SampleID', 'GA', 'GADel', 'Set', 'Train',\n",
    "                                    'TTD', 'IndividualID', 'Platform'], axis=1)\n",
    "control_group"
   ]
  },
  {
   "cell_type": "code",
   "execution_count": null,
   "metadata": {},
   "outputs": [],
   "source": [
    "pprom_group = pprom_group.drop(['SampleID', 'GA', 'GADel', 'Set', 'Train',\n",
    "                                'TTD', 'IndividualID', 'Platform'], axis=1)\n",
    "pprom_group"
   ]
  },
  {
   "cell_type": "code",
   "execution_count": null,
   "metadata": {},
   "outputs": [],
   "source": [
    "data = pd.concat([pprom_group, control_group], axis=0)\n",
    "y = data['Group'].values\n",
    "X = data.drop(['Group'], axis=1).values\n",
    "X.shape, y.shape"
   ]
  },
  {
   "cell_type": "code",
   "execution_count": null,
   "metadata": {},
   "outputs": [],
   "source": [
    "from sklearn import preprocessing\n",
    "le = preprocessing.LabelEncoder()\n",
    "y = le.fit_transform(y)\n",
    "y.shape"
   ]
  },
  {
   "cell_type": "code",
   "execution_count": null,
   "metadata": {},
   "outputs": [],
   "source": [
    "from sklearn.linear_model import LogisticRegression\n",
    "from feature_selection_ga import FeatureSelectionGA\n",
    "\n",
    "model = LogisticRegression()\n",
    "fsga = FeatureSelectionGA(model,X,y,verbose=1)\n",
    "pop = fsga.generate(1000, ngen=100)"
   ]
  },
  {
   "cell_type": "code",
   "execution_count": null,
   "metadata": {},
   "outputs": [],
   "source": [
    "indv = pop[0]\n",
    "X = data.drop(['Group'], axis=1)"
   ]
  },
  {
   "cell_type": "code",
   "execution_count": null,
   "metadata": {},
   "outputs": [],
   "source": [
    "columns = [list(X)[i] for i in range(len(indv)) if indv[i] == 1]\n",
    "columns"
   ]
  },
  {
   "cell_type": "code",
   "execution_count": null,
   "metadata": {},
   "outputs": [],
   "source": []
  }
 ],
 "metadata": {
  "kernelspec": {
   "display_name": "Python 3",
   "language": "python",
   "name": "python3"
  },
  "language_info": {
   "codemirror_mode": {
    "name": "ipython",
    "version": 3
   },
   "file_extension": ".py",
   "mimetype": "text/x-python",
   "name": "python",
   "nbconvert_exporter": "python",
   "pygments_lexer": "ipython3",
   "version": "3.7.3"
  }
 },
 "nbformat": 4,
 "nbformat_minor": 2
}
